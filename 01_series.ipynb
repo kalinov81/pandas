{
 "cells": [
  {
   "cell_type": "code",
   "execution_count": 1,
   "id": "9a5bbbf3",
   "metadata": {},
   "outputs": [],
   "source": [
    "import pandas as pd"
   ]
  },
  {
   "cell_type": "code",
   "execution_count": 4,
   "id": "54a7c6c1",
   "metadata": {},
   "outputs": [
    {
     "data": {
      "text/plain": [
       "Первый        Январь\n",
       "Второй       Февраль\n",
       "Третий          Март\n",
       "Четвёртый     Апрель\n",
       "dtype: object"
      ]
     },
     "execution_count": 4,
     "metadata": {},
     "output_type": "execute_result"
    }
   ],
   "source": [
    "data = pd.Series([\"Январь\", \"Февраль\", \"Март\", \"Апрель\"],\n",
    "                 index = ['Первый', \"Второй\", \"Третий\", \"Четвёртый\"])\n",
    "print(data)"
   ]
  },
  {
   "cell_type": "code",
   "execution_count": 3,
   "id": "e202824c",
   "metadata": {},
   "outputs": [
    {
     "name": "stdout",
     "output_type": "stream",
     "text": [
      "Январь\n"
     ]
    }
   ],
   "source": [
    "print(data.loc[\"Первый\"])"
   ]
  },
  {
   "cell_type": "code",
   "execution_count": 5,
   "id": "85507866",
   "metadata": {},
   "outputs": [
    {
     "name": "stdout",
     "output_type": "stream",
     "text": [
      "Первый    Январь\n",
      "Третий      Март\n",
      "dtype: object\n"
     ]
    }
   ],
   "source": [
    "print(data.loc[[\"Первый\", \"Третий\"]])"
   ]
  },
  {
   "cell_type": "code",
   "execution_count": 6,
   "id": "41870f1f",
   "metadata": {},
   "outputs": [
    {
     "name": "stdout",
     "output_type": "stream",
     "text": [
      "Январь\n"
     ]
    }
   ],
   "source": [
    "print(data[\"Первый\"])"
   ]
  },
  {
   "cell_type": "code",
   "execution_count": 7,
   "id": "527ef55d",
   "metadata": {},
   "outputs": [
    {
     "name": "stdout",
     "output_type": "stream",
     "text": [
      "Январь\n"
     ]
    }
   ],
   "source": [
    "print(data.iloc[0])"
   ]
  },
  {
   "cell_type": "code",
   "execution_count": 8,
   "id": "85a64b6f",
   "metadata": {},
   "outputs": [
    {
     "name": "stdout",
     "output_type": "stream",
     "text": [
      "Первый    Январь\n",
      "Третий      Март\n",
      "dtype: object\n"
     ]
    }
   ],
   "source": [
    "print(data.iloc[[0, 2]])"
   ]
  },
  {
   "cell_type": "code",
   "execution_count": null,
   "id": "4e19af5d",
   "metadata": {},
   "outputs": [],
   "source": []
  }
 ],
 "metadata": {
  "kernelspec": {
   "display_name": "Python 3 (ipykernel)",
   "language": "python",
   "name": "python3"
  },
  "language_info": {
   "codemirror_mode": {
    "name": "ipython",
    "version": 3
   },
   "file_extension": ".py",
   "mimetype": "text/x-python",
   "name": "python",
   "nbconvert_exporter": "python",
   "pygments_lexer": "ipython3",
   "version": "3.11.5"
  }
 },
 "nbformat": 4,
 "nbformat_minor": 5
}
