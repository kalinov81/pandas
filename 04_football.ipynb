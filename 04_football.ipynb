{
 "cells": [
  {
   "cell_type": "code",
   "execution_count": null,
   "id": "12df8ef4",
   "metadata": {},
   "outputs": [],
   "source": [
    "import pandas as pd"
   ]
  },
  {
   "cell_type": "code",
   "execution_count": null,
   "id": "8da8916c",
   "metadata": {},
   "outputs": [],
   "source": [
    "football = pd.read_csv('data_sf.csv')\n",
    "pd.set_option('display.float_format', lambda x: '%.2f' % x)\n",
    "football.head()"
   ]
  },
  {
   "cell_type": "code",
   "execution_count": null,
   "id": "1326ec00",
   "metadata": {},
   "outputs": [],
   "source": [
    "display(type(football))"
   ]
  },
  {
   "cell_type": "code",
   "execution_count": null,
   "id": "150efdf6",
   "metadata": {},
   "outputs": [],
   "source": [
    "display(football.Age.mean().round(3))"
   ]
  },
  {
   "cell_type": "code",
   "execution_count": null,
   "id": "2bf6fa94",
   "metadata": {},
   "outputs": [],
   "source": [
    "display(football.Value.mean().round(3))"
   ]
  },
  {
   "cell_type": "code",
   "execution_count": null,
   "id": "b6c4c3eb",
   "metadata": {},
   "outputs": [],
   "source": [
    "display(football.Value.median())"
   ]
  },
  {
   "cell_type": "code",
   "execution_count": null,
   "id": "ed7ca362",
   "metadata": {},
   "outputs": [],
   "source": [
    "display(football.Wage.mean().round(3))"
   ]
  },
  {
   "cell_type": "code",
   "execution_count": null,
   "id": "9ad57087",
   "metadata": {},
   "outputs": [],
   "source": [
    "display(football.Wage.median())"
   ]
  },
  {
   "cell_type": "code",
   "execution_count": null,
   "id": "bf2e164a",
   "metadata": {},
   "outputs": [],
   "source": [
    "display(football.Wage.min())"
   ]
  },
  {
   "cell_type": "code",
   "execution_count": null,
   "id": "4d21fe40",
   "metadata": {},
   "outputs": [],
   "source": [
    "display(football.Wage.max())"
   ]
  },
  {
   "cell_type": "code",
   "execution_count": null,
   "id": "7e05b14f",
   "metadata": {},
   "outputs": [],
   "source": [
    "display(football.Value.sum())"
   ]
  },
  {
   "cell_type": "code",
   "execution_count": null,
   "id": "93d82600",
   "metadata": {},
   "outputs": [],
   "source": []
  }
 ],
 "metadata": {
  "kernelspec": {
   "display_name": "Python 3 (ipykernel)",
   "language": "python",
   "name": "python3"
  },
  "language_info": {
   "codemirror_mode": {
    "name": "ipython",
    "version": 3
   },
   "file_extension": ".py",
   "mimetype": "text/x-python",
   "name": "python",
   "nbconvert_exporter": "python",
   "pygments_lexer": "ipython3",
   "version": "3.11.5"
  }
 },
 "nbformat": 4,
 "nbformat_minor": 5
}
