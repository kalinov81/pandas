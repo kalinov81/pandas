{
 "cells": [
  {
   "cell_type": "code",
   "execution_count": null,
   "id": "41970597",
   "metadata": {},
   "outputs": [],
   "source": [
    "import pandas as pd"
   ]
  },
  {
   "cell_type": "code",
   "execution_count": null,
   "id": "984ca17e",
   "metadata": {},
   "outputs": [],
   "source": [
    "football = pd.read_csv('data_sf.csv')\n",
    "pd.set_option('display.float_format', lambda x: '%.2f' % x)"
   ]
  },
  {
   "cell_type": "code",
   "execution_count": null,
   "id": "6bbffe2b",
   "metadata": {},
   "outputs": [],
   "source": [
    "football[football.Age >= 30]"
   ]
  },
  {
   "cell_type": "code",
   "execution_count": null,
   "id": "72f49d1c",
   "metadata": {},
   "outputs": [],
   "source": [
    "football[football.Age > football.Age.mean()]"
   ]
  },
  {
   "cell_type": "code",
   "execution_count": null,
   "id": "7a7ddecc",
   "metadata": {
    "scrolled": true
   },
   "outputs": [],
   "source": [
    "barcelona = football[(football.Age < football.Age.mean()) & (football.Club == 'FC Barcelona')]\n",
    "display(barcelona)"
   ]
  },
  {
   "cell_type": "code",
   "execution_count": null,
   "id": "2892cf09",
   "metadata": {},
   "outputs": [],
   "source": [
    "# football[(football.Age < football.Age.mean()) & (football.Club == 'FC Barcelona')].Wage.mean()\n",
    "barcelona.Wage.mean().round(3)"
   ]
  },
  {
   "cell_type": "code",
   "execution_count": null,
   "id": "02d0ed55",
   "metadata": {},
   "outputs": [],
   "source": [
    "football['Position'].value_counts()"
   ]
  },
  {
   "cell_type": "code",
   "execution_count": null,
   "id": "f732373f",
   "metadata": {},
   "outputs": [],
   "source": [
    "football['Nationality'].value_counts()"
   ]
  },
  {
   "cell_type": "code",
   "execution_count": null,
   "id": "48aa72b2",
   "metadata": {},
   "outputs": [],
   "source": [
    "football['Nationality'].value_counts(normalize = True)"
   ]
  },
  {
   "cell_type": "code",
   "execution_count": null,
   "id": "f52aa362",
   "metadata": {},
   "outputs": [],
   "source": []
  }
 ],
 "metadata": {
  "kernelspec": {
   "display_name": "Python 3 (ipykernel)",
   "language": "python",
   "name": "python3"
  },
  "language_info": {
   "codemirror_mode": {
    "name": "ipython",
    "version": 3
   },
   "file_extension": ".py",
   "mimetype": "text/x-python",
   "name": "python",
   "nbconvert_exporter": "python",
   "pygments_lexer": "ipython3",
   "version": "3.11.5"
  }
 },
 "nbformat": 4,
 "nbformat_minor": 5
}
